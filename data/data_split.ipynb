{
 "cells": [
  {
   "cell_type": "code",
   "execution_count": 1,
   "metadata": {},
   "outputs": [],
   "source": [
    "import pandas as pd\n",
    "import os\n",
    "import yaml\n",
    "import psycopg2\n",
    "import boto3\n",
    "from sqlalchemy.engine import create_engine\n",
    "\n",
    "with open(\"../config.yaml\") as f:\n",
    "    config = yaml.safe_load(f)"
   ]
  },
  {
   "cell_type": "markdown",
   "metadata": {},
   "source": [
    "### Split Datasets"
   ]
  },
  {
   "cell_type": "code",
   "execution_count": 2,
   "metadata": {},
   "outputs": [],
   "source": [
    "df = pd.read_csv(\"../../level_2/heart.csv\")"
   ]
  },
  {
   "cell_type": "code",
   "execution_count": 3,
   "metadata": {},
   "outputs": [],
   "source": [
    "categorical_set = ['patient_id', 'age', 'sex', 'cp', 'exang', 'fbs', 'slope', 'thal']\n",
    "continuous_set = ['patient_id', 'trestbps', 'chol', 'restecg', 'thalach', 'oldpeak', 'ca']\n",
    "target_set = ['patient_id', 'target']"
   ]
  },
  {
   "cell_type": "code",
   "execution_count": 4,
   "metadata": {},
   "outputs": [],
   "source": [
    "df_categorical = df[categorical_set]\n",
    "df_continuous = df[continuous_set]\n",
    "df_target = df[target_set]"
   ]
  },
  {
   "cell_type": "code",
   "execution_count": 6,
   "metadata": {},
   "outputs": [],
   "source": [
    "df_categorical.to_csv(\"heart_disease_categorical.csv\", index=False)\n",
    "df_continuous.to_csv(\"heart_disease_continuous.csv\", index=False)\n",
    "df_target.to_csv(\"heart_disease_target.csv\", index=False)\n",
    "df_target.to_parquet(\"heart_disease_target.parquet\", index=False)"
   ]
  },
  {
   "cell_type": "markdown",
   "metadata": {},
   "source": [
    "### Upload to PostgreSQL"
   ]
  },
  {
   "cell_type": "code",
   "execution_count": 6,
   "metadata": {},
   "outputs": [],
   "source": [
    "engine = create_engine(config[\"POSTGRESQL_DB\"])"
   ]
  },
  {
   "cell_type": "code",
   "execution_count": 7,
   "metadata": {},
   "outputs": [],
   "source": [
    "df_continuous.to_sql(\"heart_disease_continuous\", engine, index=False)"
   ]
  },
  {
   "cell_type": "markdown",
   "metadata": {},
   "source": [
    "### Upload to S3"
   ]
  },
  {
   "cell_type": "code",
   "execution_count": 7,
   "metadata": {},
   "outputs": [],
   "source": [
    "os.environ[\"AWS_ACCESS_KEY_ID\"] = config[\"AWS_ACCESS_KEY_ID\"]\n",
    "os.environ[\"AWS_SECRET_ACCESS_KEY\"] = config[\"AWS_SECRET_ACCESS_KEY\"]\n",
    "os.environ[\"AWS_DEFAULT_REGION\"] = config[\"AWS_DEFAULT_REGION\"]"
   ]
  },
  {
   "cell_type": "code",
   "execution_count": 8,
   "metadata": {},
   "outputs": [
    {
     "data": {
      "text/plain": [
       "['heart/heart.csv',\n",
       " 'heart/heart_disease_categorial.csv',\n",
       " 'heart/heart_disease_categorical.csv',\n",
       " 'heart/heart_ingested.csv']"
      ]
     },
     "execution_count": 8,
     "metadata": {},
     "output_type": "execute_result"
    }
   ],
   "source": [
    "s3 = boto3.resource('s3')\n",
    "my_bucket = s3.Bucket(config[\"AWS_BUCKET\"])\n",
    "\n",
    "my_bucket.upload_file(\"heart_disease_categorical.csv\", \"heart/heart_disease_categorical.csv\")\n",
    "\n",
    "objects = []\n",
    "for object_summary in my_bucket.objects.filter(Prefix=\"heart/\"):\n",
    "    objects.append(object_summary.key)\n",
    "\n",
    "objects"
   ]
  },
  {
   "cell_type": "code",
   "execution_count": null,
   "metadata": {},
   "outputs": [],
   "source": []
  }
 ],
 "metadata": {
  "kernelspec": {
   "display_name": "Python [conda env:root] *",
   "language": "python",
   "name": "conda-root-py"
  },
  "language_info": {
   "codemirror_mode": {
    "name": "ipython",
    "version": 3
   },
   "file_extension": ".py",
   "mimetype": "text/x-python",
   "name": "python",
   "nbconvert_exporter": "python",
   "pygments_lexer": "ipython3",
   "version": "3.7.6"
  }
 },
 "nbformat": 4,
 "nbformat_minor": 4
}
